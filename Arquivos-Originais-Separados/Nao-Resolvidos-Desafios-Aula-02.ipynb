{
 "cells": [
  {
   "cell_type": "markdown",
   "id": "91d161ac",
   "metadata": {},
   "source": [
    "## Desafios Aula2\n",
    "\n",
    "### Desafio 01: Ordenar o gráfico countplot\n",
    "\n",
    "### Desafio 02: Melhorar a visualização alterando tamanho da fonte...\n",
    "\n",
    "### Desafio 03: Plotar os histogramas com seaborn\n",
    "\n",
    "### Desafio 04: Estudar sobre as estatíticas retornadas no .describe()\n",
    "\n",
    "### Desafio 05: Refletir sobre a manipulação do tamanho das visualizações. \n",
    "\n",
    "### Desafio 06: Fazer outras análises com o boxplot e até com o histograma. \n",
    "\n",
    "### Desafio 07: Resumo do que você aprendeu com os dados"
   ]
  }
 ],
 "metadata": {
  "kernelspec": {
   "display_name": "Python 3",
   "language": "python",
   "name": "python3"
  },
  "language_info": {
   "codemirror_mode": {
    "name": "ipython",
    "version": 3
   },
   "file_extension": ".py",
   "mimetype": "text/x-python",
   "name": "python",
   "nbconvert_exporter": "python",
   "pygments_lexer": "ipython3",
   "version": "3.8.5"
  },
  "latex_envs": {
   "LaTeX_envs_menu_present": true,
   "autoclose": false,
   "autocomplete": true,
   "bibliofile": "biblio.bib",
   "cite_by": "apalike",
   "current_citInitial": 1,
   "eqLabelWithNumbers": true,
   "eqNumInitial": 1,
   "hotkeys": {
    "equation": "Ctrl-E",
    "itemize": "Ctrl-I"
   },
   "labels_anchors": false,
   "latex_user_defs": false,
   "report_style_numbering": false,
   "user_envs_cfg": false
  },
  "toc": {
   "base_numbering": 1,
   "nav_menu": {},
   "number_sections": true,
   "sideBar": true,
   "skip_h1_title": false,
   "title_cell": "Table of Contents",
   "title_sidebar": "Contents",
   "toc_cell": false,
   "toc_position": {},
   "toc_section_display": true,
   "toc_window_display": false
  }
 },
 "nbformat": 4,
 "nbformat_minor": 5
}
