{
 "cells": [
  {
   "cell_type": "markdown",
   "id": "4d94e9a4",
   "metadata": {},
   "source": [
    "# Introdução: Leia antes de rodar"
   ]
  },
  {
   "cell_type": "markdown",
   "id": "63810497",
   "metadata": {},
   "source": [
    "## Abrindo no Google Collab"
   ]
  },
  {
   "cell_type": "markdown",
   "id": "d273f28c",
   "metadata": {},
   "source": [
    "Para abrir no [Google Collab](https://colab.research.google.com/) a forma mais fácil é:\n",
    "\n",
    "1. No canto superior esquerdo do google collab clique na sequência: File > Open Notebook > Github\n",
    "2. Cole o link do github e clique na lupa\n",
    "3. Vai aparecer o símbolo do github com um link abaixo, clique neste link para abrir o notebook\n",
    "4. IMPORTANTE: No canto superior esquerdo clique em \"Copy to Drive\", para criar uma cópia na sua do google direto do meu github. Se não fizer isso, você não conseguirá salvar nenhuma alteração que fizer."
   ]
  },
  {
   "cell_type": "markdown",
   "id": "be328341",
   "metadata": {},
   "source": [
    "## Prevenindo erros: execute antes de começar"
   ]
  },
  {
   "cell_type": "markdown",
   "id": "12d192bc",
   "metadata": {},
   "source": [
    "Ao abrir um notebook e executar algo lá no meio, é muito comum aparecer erros como \"A variável x não existe\". Uma solução é executar o notebook todo, mas também é possível selecionar as principais bibliotecas e variáveis utilizadas e executá-las logo no início.\n",
    "\n",
    "Selecionei as principais variáveis utilizadas ao longo do notebook nas duas células abaixo. Assim, você não precisa executar o notebook todo sempre que for utilizar, só precisa executar estas aqui, e aí já pode ir direto pra uma aula qualquer do notebook.\n",
    "\n",
    "EXEMPLO: vai fazer a aula 3? Então execute:\n",
    "- a célula de importações\n",
    "- a célula das variaveis criadas na aula 1\n",
    "- a célula das variaveis criadas na aula 2\n",
    "- Pronto! Pode rodar a página pra baixo e começar lá na aula 3"
   ]
  },
  {
   "cell_type": "code",
   "execution_count": null,
   "id": "15ab4d07",
   "metadata": {},
   "outputs": [],
   "source": [
    "# Esta célula faz a importação das bibliotecas a serem utilizadas ao longo do notebook.\n",
    "# É uma boa prática fazer esta importação logo nas primeiras células, para evitar erros futuros.\n",
    "\n",
    "import pandas as pd\n",
    "import seaborn as sns\n",
    "import matplotlib.pyplot as plt\n",
    "import numpy as np\n",
    "sns.set()\n",
    "\n",
    "# por ser usada apenas na última aula, optei por não incluir nesta célula a biblioteca scikit-learn"
   ]
  },
  {
   "cell_type": "code",
   "execution_count": null,
   "id": "7dbacf7f",
   "metadata": {},
   "outputs": [],
   "source": [
    "#variaveis criadas/atualizadas na aula 1\n",
    "\n",
    "url_dados = 'https://github.com/alura-cursos/imersaodados3/blob/main/dados/dados_experimentos.zip?raw=true'\n",
    "\n",
    "dados = pd.read_csv(url_dados, compression = 'zip')\n",
    "\n",
    "dados_filtrados = dados[dados['g-0'] > 0]"
   ]
  },
  {
   "cell_type": "code",
   "execution_count": null,
   "id": "02adbdc2",
   "metadata": {},
   "outputs": [],
   "source": [
    "#variaveis criadas/atualizadas na aula 2\n",
    "\n",
    "mapa = {'droga': 'composto'}\n",
    "dados.rename(columns=mapa, inplace=True)\n",
    "\n",
    "cod_compostos = dados['composto'].value_counts().index[0:5]"
   ]
  },
  {
   "cell_type": "code",
   "execution_count": null,
   "id": "ba3d3ede",
   "metadata": {},
   "outputs": [],
   "source": [
    "#variaveis criadas/atualizadas na 3\n",
    "\n",
    "corr = dados.loc[:,'g-0':'g-50'].corr()\n",
    "corr_celular = dados.loc[:,'c-0':'c-50'].corr()"
   ]
  },
  {
   "cell_type": "code",
   "execution_count": null,
   "id": "639610f4",
   "metadata": {},
   "outputs": [],
   "source": [
    "#variaveis criadas/atualizadas na 4\n",
    "\n",
    "dados_resultados = pd.read_csv('https://github.com/alura-cursos/imersaodados3/blob/main/dados/dados_resultados.csv?raw=true')\n",
    "\n",
    "contagem_moa = dados_resultados.drop('id', axis=1).sum().sort_values(ascending=False)\n",
    "\n",
    "dados_resultados['n_moa'] = dados_resultados.drop('id', axis=1).sum(axis=1)\n",
    "dados_resultados['ativo_moa'] = (dados_resultados['n_moa'] != 0)\n",
    "\n",
    "dados_combinados = pd.merge(dados, dados_resultados[['id','n_moa', 'ativo_moa']], on='id')\n"
   ]
  }
 ],
 "metadata": {
  "kernelspec": {
   "display_name": "Python 3",
   "language": "python",
   "name": "python3"
  },
  "language_info": {
   "codemirror_mode": {
    "name": "ipython",
    "version": 3
   },
   "file_extension": ".py",
   "mimetype": "text/x-python",
   "name": "python",
   "nbconvert_exporter": "python",
   "pygments_lexer": "ipython3",
   "version": "3.8.5"
  },
  "latex_envs": {
   "LaTeX_envs_menu_present": true,
   "autoclose": false,
   "autocomplete": true,
   "bibliofile": "biblio.bib",
   "cite_by": "apalike",
   "current_citInitial": 1,
   "eqLabelWithNumbers": true,
   "eqNumInitial": 1,
   "hotkeys": {
    "equation": "Ctrl-E",
    "itemize": "Ctrl-I"
   },
   "labels_anchors": false,
   "latex_user_defs": false,
   "report_style_numbering": false,
   "user_envs_cfg": false
  },
  "toc": {
   "base_numbering": 1,
   "nav_menu": {},
   "number_sections": true,
   "sideBar": true,
   "skip_h1_title": false,
   "title_cell": "Table of Contents",
   "title_sidebar": "Contents",
   "toc_cell": false,
   "toc_position": {},
   "toc_section_display": true,
   "toc_window_display": true
  }
 },
 "nbformat": 4,
 "nbformat_minor": 5
}
