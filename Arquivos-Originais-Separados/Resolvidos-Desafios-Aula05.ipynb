{
 "cells": [
  {
   "cell_type": "markdown",
   "metadata": {},
   "source": [
    "# Desafios Aula 5"
   ]
  },
  {
   "cell_type": "markdown",
   "metadata": {
    "id": "b4AiA06vF0fX"
   },
   "source": [
    "## Desafio 01: Tente outros modelos ou mude os parâmetros dos modelos que testamos em aula."
   ]
  },
  {
   "cell_type": "markdown",
   "metadata": {
    "id": "ldJ-hHCEKVlT"
   },
   "source": [
    "Com 10000 iterações o resultado não é muito diferente do resultado da aula com 1000 iterações. "
   ]
  },
  {
   "cell_type": "code",
   "execution_count": 85,
   "metadata": {
    "colab": {
     "base_uri": "https://localhost:8080/"
    },
    "id": "J5BE4GxfF1_W",
    "outputId": "87bd00b9-c090-432b-9f8c-e244886e7a82"
   },
   "outputs": [
    {
     "name": "stderr",
     "output_type": "stream",
     "text": [
      "/usr/local/lib/python3.7/dist-packages/sklearn/linear_model/_logistic.py:940: ConvergenceWarning: lbfgs failed to converge (status=1):\n",
      "STOP: TOTAL NO. of ITERATIONS REACHED LIMIT.\n",
      "\n",
      "Increase the number of iterations (max_iter) or scale the data as shown in:\n",
      "    https://scikit-learn.org/stable/modules/preprocessing.html\n",
      "Please also refer to the documentation for alternative solver options:\n",
      "    https://scikit-learn.org/stable/modules/linear_model.html#logistic-regression\n",
      "  extra_warning_msg=_LOGISTIC_SOLVER_CONVERGENCE_MSG)\n"
     ]
    },
    {
     "data": {
      "text/plain": [
       "0.6653369724963258"
      ]
     },
     "execution_count": 85,
     "metadata": {
      "tags": []
     },
     "output_type": "execute_result"
    }
   ],
   "source": [
    "modelo_rlogistica = LogisticRegression()\n",
    "modelo_rlogistica.fit(x_treino, y_treino)\n",
    "modelo_rlogistica.score(x_teste, y_teste)"
   ]
  },
  {
   "cell_type": "code",
   "execution_count": 86,
   "metadata": {
    "colab": {
     "base_uri": "https://localhost:8080/"
    },
    "id": "gX0qnLkMKd4g",
    "outputId": "394ddcac-52e1-417f-a8ba-867d45046d3b"
   },
   "outputs": [
    {
     "data": {
      "text/plain": [
       "0.6640772622296872"
      ]
     },
     "execution_count": 86,
     "metadata": {
      "tags": []
     },
     "output_type": "execute_result"
    }
   ],
   "source": [
    "modelo_rlogistica = LogisticRegression(solver='newton-cg')\n",
    "modelo_rlogistica.fit(x_treino, y_treino)\n",
    "modelo_rlogistica.score(x_teste, y_teste)"
   ]
  },
  {
   "cell_type": "markdown",
   "metadata": {
    "id": "zvdwp-rPOAxA"
   },
   "source": [
    "Outra opção de algoritmo é o dos K vizinhos mais próximos"
   ]
  },
  {
   "cell_type": "code",
   "execution_count": 87,
   "metadata": {
    "id": "WvIF7OzmJ-6w"
   },
   "outputs": [],
   "source": [
    "from sklearn.neighbors import KNeighborsClassifier"
   ]
  },
  {
   "cell_type": "code",
   "execution_count": 88,
   "metadata": {
    "id": "FrVIWYKWKvH3"
   },
   "outputs": [],
   "source": [
    "n_neighbors = 3"
   ]
  },
  {
   "cell_type": "code",
   "execution_count": 89,
   "metadata": {
    "colab": {
     "base_uri": "https://localhost:8080/"
    },
    "id": "ockhI_tUKpNH",
    "outputId": "0656ddd9-973a-4cce-aa5a-047e2c7e5879"
   },
   "outputs": [
    {
     "data": {
      "text/plain": [
       "0.6155784169640982"
      ]
     },
     "execution_count": 89,
     "metadata": {
      "tags": []
     },
     "output_type": "execute_result"
    }
   ],
   "source": [
    "clf = KNeighborsClassifier(n_neighbors)\n",
    "clf.fit(x_treino, y_treino)\n",
    "clf.score(x_teste, y_teste)"
   ]
  },
  {
   "cell_type": "markdown",
   "metadata": {
    "id": "Bu4-Yud3M1Mq"
   },
   "source": [
    "## Desafio 02: Estude a documentação do Sklearn."
   ]
  },
  {
   "cell_type": "markdown",
   "metadata": {
    "id": "ug7q4FUKM3Gy"
   },
   "source": [
    "https://scikit-learn.org/stable/index.html"
   ]
  },
  {
   "cell_type": "markdown",
   "metadata": {
    "id": "fQ5HW5-OM-HJ"
   },
   "source": [
    "## Desafio 03: Pesquisar o fluxograma 'Escolhendo o melhor modelo' choosing the right estimator"
   ]
  },
  {
   "cell_type": "markdown",
   "metadata": {
    "id": "FT_fmsUvNHvR"
   },
   "source": [
    "https://scikit-learn.org/stable/tutorial/machine_learning_map/index.html"
   ]
  },
  {
   "cell_type": "markdown",
   "metadata": {
    "id": "oGcwe6gENRQZ"
   },
   "source": [
    "## Desafio 04: Teste outros problemas (perguntas). 0, 1 ou +"
   ]
  },
  {
   "cell_type": "code",
   "execution_count": 90,
   "metadata": {
    "id": "3LbMWuWbOLro"
   },
   "outputs": [],
   "source": [
    "x = dados_combinados.loc[:,'g-0':'c-99']"
   ]
  },
  {
   "cell_type": "markdown",
   "metadata": {
    "id": "aX5BOw-iPFXo"
   },
   "source": [
    "Neste exemplo estamos fazendo a classificação da coluna tempo. Vamos fazer um map para para que os valores 24,48,72 que são muito mais altos que os valores nas labels não tornem o modelo tendencioso."
   ]
  },
  {
   "cell_type": "code",
   "execution_count": 91,
   "metadata": {
    "id": "t1se40tKOti6"
   },
   "outputs": [],
   "source": [
    "y=dados_combinados['tempo'].map({24:0,48:1,72:2})"
   ]
  },
  {
   "cell_type": "code",
   "execution_count": 92,
   "metadata": {
    "colab": {
     "base_uri": "https://localhost:8080/"
    },
    "id": "l9dVAX7DMXal",
    "outputId": "a851ae09-39c1-4d0b-8bc5-0fd98b51525f"
   },
   "outputs": [
    {
     "data": {
      "text/plain": [
       "0        0\n",
       "1        2\n",
       "2        1\n",
       "3        1\n",
       "4        2\n",
       "        ..\n",
       "23809    0\n",
       "23810    0\n",
       "23811    1\n",
       "23812    0\n",
       "23813    2\n",
       "Name: tempo, Length: 23814, dtype: int64"
      ]
     },
     "execution_count": 92,
     "metadata": {
      "tags": []
     },
     "output_type": "execute_result"
    }
   ],
   "source": [
    "y"
   ]
  },
  {
   "cell_type": "code",
   "execution_count": 93,
   "metadata": {
    "id": "SLMLsZaGPBpj"
   },
   "outputs": [],
   "source": [
    "x_treino, x_teste, y_treino, y_teste = train_test_split(x, y, test_size = 0.2, stratify=y, random_state=376)"
   ]
  },
  {
   "cell_type": "code",
   "execution_count": 94,
   "metadata": {
    "colab": {
     "base_uri": "https://localhost:8080/"
    },
    "id": "ypgTrfy7Pq4j",
    "outputId": "7d9d1cd8-0283-4382-d1ff-2b375b7f32a0"
   },
   "outputs": [
    {
     "data": {
      "text/plain": [
       "0.686122191895864"
      ]
     },
     "execution_count": 94,
     "metadata": {
      "tags": []
     },
     "output_type": "execute_result"
    }
   ],
   "source": [
    "modelo_rlogistica2 = LogisticRegression(solver='newton-cg')\n",
    "modelo_rlogistica2.fit(x_treino, y_treino)\n",
    "modelo_rlogistica2.score(x_teste, y_teste)"
   ]
  },
  {
   "cell_type": "code",
   "execution_count": 95,
   "metadata": {
    "colab": {
     "base_uri": "https://localhost:8080/"
    },
    "id": "VtZWFpVnQdF2",
    "outputId": "52d62f42-8459-445c-94e0-9fa35b9f6311"
   },
   "outputs": [
    {
     "data": {
      "text/plain": [
       "0.3464203233256351"
      ]
     },
     "execution_count": 95,
     "metadata": {
      "tags": []
     },
     "output_type": "execute_result"
    }
   ],
   "source": [
    "modelo_dummy = DummyClassifier('most_frequent')\n",
    "modelo_dummy.fit(x_treino, y_treino)\n",
    "previsao_dummy = modelo_dummy.predict(x_teste)\n",
    "accuracy_score(y_teste, previsao_dummy)"
   ]
  },
  {
   "cell_type": "markdown",
   "metadata": {
    "id": "yMMSnSNaQPC4"
   },
   "source": [
    "## Desafio 05: Escolha a droga mais utilizada e tente criar um modelo para prever está label."
   ]
  },
  {
   "cell_type": "markdown",
   "metadata": {
    "id": "NiKdSCJlmlOd"
   },
   "source": [
    "A droga mais utilizada é a mais presente na base de dados. Desta forma, a base de dados é altamente desbalanceada. O algoritmo de machine learning pode simplesmente \"achar\" que é melhor classificar o resultado como sendo a droga mais frequente. Por isso, decidimos criar um algoritmo que diferencia as drogas 8b87a7a83 e 5628cb3ee que possuem um número de elementos semelhante."
   ]
  },
  {
   "cell_type": "code",
   "execution_count": 96,
   "metadata": {
    "colab": {
     "base_uri": "https://localhost:8080/"
    },
    "id": "7TVLlOEyWGFV",
    "outputId": "8e1b9e90-6d90-4b8f-f43d-94938f50bf85"
   },
   "outputs": [
    {
     "data": {
      "text/plain": [
       "cacb2b860    1866\n",
       "87d714366     718\n",
       "9f80f3f77     246\n",
       "8b87a7a83     203\n",
       "5628cb3ee     202\n",
       "             ... \n",
       "7a2ea4684       1\n",
       "c5ffd58ca       1\n",
       "cf21e6ee0       1\n",
       "b2fe3eca7       1\n",
       "0dedfb162       1\n",
       "Name: composto, Length: 3289, dtype: int64"
      ]
     },
     "execution_count": 96,
     "metadata": {
      "tags": []
     },
     "output_type": "execute_result"
    }
   ],
   "source": [
    "dados_combinados['composto'].value_counts()"
   ]
  },
  {
   "cell_type": "code",
   "execution_count": 97,
   "metadata": {
    "id": "lNSdHpnQV6x-"
   },
   "outputs": [],
   "source": [
    "dt_temporario = dados_combinados.query('composto in [\"8b87a7a83\", \"5628cb3ee\"]')"
   ]
  },
  {
   "cell_type": "markdown",
   "metadata": {
    "id": "1tSinhs7vjU4"
   },
   "source": [
    "Aqui modificamos o x. Se colocamos mais colunas de g e c o algoritmo consegue 100% de taxa de acerto. A diferença da ativação entre as duas drogas é muito grande e fácil do algoritmo identificar."
   ]
  },
  {
   "cell_type": "code",
   "execution_count": 98,
   "metadata": {
    "id": "CWBaE3p_Vg1V"
   },
   "outputs": [],
   "source": [
    "x = dt_temporario.loc[:,'g-0':'g-10'] #"
   ]
  },
  {
   "cell_type": "code",
   "execution_count": 99,
   "metadata": {
    "id": "WYmCP-guSmS_"
   },
   "outputs": [],
   "source": [
    "y = dt_temporario['composto'].map({'8b87a7a83': 0, '5628cb3ee': 1})"
   ]
  },
  {
   "cell_type": "code",
   "execution_count": 100,
   "metadata": {
    "colab": {
     "base_uri": "https://localhost:8080/",
     "height": 302
    },
    "id": "l_X2dTJSU3bm",
    "outputId": "843610b8-6e62-44b1-d4aa-8d412e5f583d"
   },
   "outputs": [
    {
     "data": {
      "text/plain": [
       "<matplotlib.axes._subplots.AxesSubplot at 0x7f8582016e50>"
      ]
     },
     "execution_count": 100,
     "metadata": {
      "tags": []
     },
     "output_type": "execute_result"
    },
    {
     "data": {
      "image/png": "[encoded data removed]",
      "text/plain": [
       "<Figure size 432x288 with 1 Axes>"
      ]
     },
     "metadata": {
      "tags": []
     },
     "output_type": "display_data"
    }
   ],
   "source": [
    "sns.countplot(y=y)"
   ]
  },
  {
   "cell_type": "code",
   "execution_count": 104,
   "metadata": {
    "id": "-O24mHQjQ0Aq"
   },
   "outputs": [],
   "source": [
    "x_treino, x_teste, y_treino, y_teste = train_test_split(x, y, test_size = 0.2, stratify=y,random_state=376) "
   ]
  },
  {
   "cell_type": "code",
   "execution_count": 105,
   "metadata": {
    "colab": {
     "base_uri": "https://localhost:8080/"
    },
    "id": "qlRzRCXgRWIq",
    "outputId": "9fd83e08-cb1f-47e5-96fc-f09e1cc82c48"
   },
   "outputs": [
    {
     "data": {
      "text/plain": [
       "0.9382716049382716"
      ]
     },
     "execution_count": 105,
     "metadata": {
      "tags": []
     },
     "output_type": "execute_result"
    }
   ],
   "source": [
    "modelo_rlogistica2 = LogisticRegression()\n",
    "modelo_rlogistica2.fit(x_treino, y_treino)\n",
    "modelo_rlogistica2.score(x_teste, y_teste)"
   ]
  },
  {
   "cell_type": "code",
   "execution_count": 106,
   "metadata": {
    "colab": {
     "base_uri": "https://localhost:8080/"
    },
    "id": "-VFQ_E1rS_Kf",
    "outputId": "153a372c-b791-4bfd-ab2a-c944a29e2b37"
   },
   "outputs": [
    {
     "data": {
      "text/plain": [
       "0.5061728395061729"
      ]
     },
     "execution_count": 106,
     "metadata": {
      "tags": []
     },
     "output_type": "execute_result"
    }
   ],
   "source": [
    "modelo_dummy = DummyClassifier('most_frequent')\n",
    "modelo_dummy.fit(x_treino, y_treino)\n",
    "previsao_dummy = modelo_dummy.predict(x_teste)\n",
    "accuracy_score(y_teste, previsao_dummy)"
   ]
  },
  {
   "cell_type": "markdown",
   "metadata": {
    "id": "QDnPY3Kris0W"
   },
   "source": [
    "## Desafio 06: Resumo do que você aprendeu com os dados"
   ]
  },
  {
   "cell_type": "markdown",
   "metadata": {
    "id": "8k3Qg0YPh5aX"
   },
   "source": [
    "O estudo sobre a base de dados é livre. Tente extrair o máximo de informações da base de dados com o que aprendeu nesta aula e compartilhe no Discord e nas redes sociais como forma de construção do seu portfólio em Data Science."
   ]
  }
 ],
 "metadata": {
  "colab": {
   "name": "Desafios_aula05.ipynb",
   "provenance": []
  },
  "kernelspec": {
   "display_name": "Python 3",
   "language": "python",
   "name": "python3"
  },
  "language_info": {
   "codemirror_mode": {
    "name": "ipython",
    "version": 3
   },
   "file_extension": ".py",
   "mimetype": "text/x-python",
   "name": "python",
   "nbconvert_exporter": "python",
   "pygments_lexer": "ipython3",
   "version": "3.8.5"
  },
  "latex_envs": {
   "LaTeX_envs_menu_present": true,
   "autoclose": false,
   "autocomplete": true,
   "bibliofile": "biblio.bib",
   "cite_by": "apalike",
   "current_citInitial": 1,
   "eqLabelWithNumbers": true,
   "eqNumInitial": 1,
   "hotkeys": {
    "equation": "Ctrl-E",
    "itemize": "Ctrl-I"
   },
   "labels_anchors": false,
   "latex_user_defs": false,
   "report_style_numbering": false,
   "user_envs_cfg": false
  },
  "toc": {
   "base_numbering": 1,
   "nav_menu": {},
   "number_sections": true,
   "sideBar": true,
   "skip_h1_title": false,
   "title_cell": "Table of Contents",
   "title_sidebar": "Contents",
   "toc_cell": false,
   "toc_position": {},
   "toc_section_display": true,
   "toc_window_display": true
  }
 },
 "nbformat": 4,
 "nbformat_minor": 1
}
