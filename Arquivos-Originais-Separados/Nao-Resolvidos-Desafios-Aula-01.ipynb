{
 "cells": [
  {
   "cell_type": "markdown",
   "id": "be493c75",
   "metadata": {},
   "source": [
    "## Desafios Aula 1\n",
    "\n",
    "### Desafio 01: Investigar por que a classe tratamento é tão desbalanceada?\n",
    "\n",
    "### Desafio 02: Plotar as 5 últimas linhas da tabela\n",
    "\n",
    "### Desafio 03: Proporção das classes tratamento.\n",
    "\n",
    "### Desafio 04: Quantas tipos de drogas foram investigados.\n",
    "\n",
    "### Desafio 05: Procurar na documentação o método query(pandas). \n",
    "\n",
    "### Desafio 06: Renomear as colunas tirando o hífen. \n",
    "\n",
    "### Desafio 07: Deixar os gráficos bonitões. (Matplotlib.pyplot)\n",
    "\n",
    "### Desafio 08: Resumo do que você aprendeu com os dados"
   ]
  }
 ],
 "metadata": {
  "kernelspec": {
   "display_name": "Python 3",
   "language": "python",
   "name": "python3"
  },
  "language_info": {
   "codemirror_mode": {
    "name": "ipython",
    "version": 3
   },
   "file_extension": ".py",
   "mimetype": "text/x-python",
   "name": "python",
   "nbconvert_exporter": "python",
   "pygments_lexer": "ipython3",
   "version": "3.8.5"
  },
  "latex_envs": {
   "LaTeX_envs_menu_present": true,
   "autoclose": false,
   "autocomplete": true,
   "bibliofile": "biblio.bib",
   "cite_by": "apalike",
   "current_citInitial": 1,
   "eqLabelWithNumbers": true,
   "eqNumInitial": 1,
   "hotkeys": {
    "equation": "Ctrl-E",
    "itemize": "Ctrl-I"
   },
   "labels_anchors": false,
   "latex_user_defs": false,
   "report_style_numbering": false,
   "user_envs_cfg": false
  },
  "toc": {
   "base_numbering": 1,
   "nav_menu": {},
   "number_sections": true,
   "sideBar": true,
   "skip_h1_title": false,
   "title_cell": "Table of Contents",
   "title_sidebar": "Contents",
   "toc_cell": false,
   "toc_position": {},
   "toc_section_display": true,
   "toc_window_display": false
  }
 },
 "nbformat": 4,
 "nbformat_minor": 5
}
